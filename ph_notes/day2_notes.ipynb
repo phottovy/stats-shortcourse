{
 "cells": [
  {
   "cell_type": "code",
   "execution_count": 13,
   "metadata": {},
   "outputs": [
    {
     "name": "stderr",
     "output_type": "stream",
     "text": [
      "/anaconda/lib/python3.6/site-packages/ipykernel_launcher.py:6: DeprecationWarning: This function is deprecated. Please call randint(0, 1 + 1) instead\n",
      "  \n",
      "/anaconda/lib/python3.6/site-packages/ipykernel_launcher.py:8: DeprecationWarning: This function is deprecated. Please call randint(0, 1 + 1) instead\n",
      "  \n"
     ]
    },
    {
     "name": "stdout",
     "output_type": "stream",
     "text": [
      "4140/4998\n",
      "0.8283313325330132\n"
     ]
    }
   ],
   "source": [
    "import numpy as np\n",
    "\n",
    "n = 10000\n",
    "coins = ['HH', 'HT', 'TT']\n",
    "coins_selected = np.random.choice(coins,n)\n",
    "first_side_shown = np.array([c[np.random.random_integers(0,1,1)[0]] for c in coins_selected])\n",
    "coins_with_heads = coins_selected[np.where(first_side_shown == 'H')[0]]\n",
    "second_side_shown = np.array([c[np.random.random_integers(0,1,1)[0]] for c in coins_with_heads])\n",
    "print(\"%s/%s\"%(np.where(second_side_shown=='H')[0].size,second_side_shown.size))\n",
    "print(np.where(second_side_shown=='H')[0].size/second_side_shown.size)"
   ]
  },
  {
   "cell_type": "code",
   "execution_count": 1,
   "metadata": {
    "collapsed": true
   },
   "outputs": [],
   "source": [
    "# prob mass function is for discrete distributions \n",
    "# prob density function is for continuous distributions"
   ]
  },
  {
   "cell_type": "code",
   "execution_count": 41,
   "metadata": {},
   "outputs": [
    {
     "name": "stdout",
     "output_type": "stream",
     "text": [
      "We observed 66 heads out of 100\n",
      "The expected distribution for a fair coin is mu=50.0, sd=5.0\n",
      "binomial test p-value: 0.00178993039149\n",
      "normal approximation p-value: - 0.00193520642644\n",
      "simulation p-value - 0.00192\n",
      "Maximum Likelihood Estimate: 0.66\n",
      "Bootstrap CI: (0.5700, 0.7500)\n"
     ]
    }
   ],
   "source": [
    "# statistical inference\n",
    "# simulating data\n",
    "\n",
    "import numpy as np\n",
    "import matplotlib.pyplot as plt\n",
    "import scipy.stats as st\n",
    "\n",
    "n = 100\n",
    "pcoin = 0.62 # actual value of p for coin\n",
    "results = st.bernoulli(pcoin).rvs(n)\n",
    "h = sum(results)\n",
    "print(\"We observed %s heads out of %s\"%(h,n))\n",
    "\n",
    "# null hypothesis\n",
    "\n",
    "p = 0.5\n",
    "rv = st.binom(n,p)\n",
    "mu = rv.mean()\n",
    "sd = rv.std()\n",
    "print(\"The expected distribution for a fair coin is mu=%s, sd=%s\"%(mu,sd))\n",
    "\n",
    "# binomial distribution\n",
    "\n",
    "print(\"binomial test p-value: %s\"%st.binom_test(h, n, p))\n",
    "\n",
    "# z test\n",
    "\n",
    "z = (h-0.5-mu)/sd\n",
    "print(\"normal approximation p-value: - %s\"%(2*(1 - st.norm.cdf(z))))\n",
    "\n",
    "# permutation test\n",
    "\n",
    "nsamples = 100000\n",
    "xs = np.random.binomial(n, p, nsamples)\n",
    "print(\"simulation p-value - %s\"%(2*np.sum(xs >= h)/(xs.size + 0.0)))\n",
    "\n",
    "# Maximum Likelihood Estimation (MLE)\n",
    "\n",
    "bs_samples = np.random.choice(results, (nsamples, len(results)), replace=True)\n",
    "bs_ps = np.mean(bs_samples, axis=1)\n",
    "bs_ps.sort()\n",
    "\n",
    "print(\"Maximum Likelihood Estimate: %s\"%(np.sum(results)/float(len(results))))\n",
    "print(\"Bootstrap CI: (%.4f, %.4f)\" % (bs_ps[int(0.025*nsamples)], bs_ps[int(0.975*nsamples)]))\n",
    "\n",
    "# bayesian Esstamition\n",
    "\n",
    "fig  = plt.figure()\n",
    "ax = fig.add_subplot(111)\n",
    "\n",
    "a, b = 10, 10\n",
    "prior = st.beta(a, b)\n",
    "post = st.beta(h+a, n-h+b)\n",
    "ci = post.interval(0.95)\n",
    "map_ =(h+a-1.0)/(n+a+b-2.0)\n",
    "\n",
    "xs = np.linspace(0, 1, 100)\n",
    "ax.plot(prior.pdf(xs), label='Prior')\n",
    "ax.plot(post.pdf(xs), label='Posterior')\n",
    "ax.axvline(mu, c='red', linestyle='dashed', alpha=0.4)\n",
    "ax.set_xlim([0, 100])\n",
    "ax.axhline(0.3, ci[0], ci[1], c='black', linewidth=2, label='95% CI');\n",
    "ax.axvline(n*map_, c='blue', linestyle='dashed', alpha=0.4)\n",
    "ax.legend()\n",
    "plt.savefig(\"coin-toss.png\")"
   ]
  },
  {
   "cell_type": "code",
   "execution_count": 44,
   "metadata": {},
   "outputs": [
    {
     "name": "stdout",
     "output_type": "stream",
     "text": [
      "We observed 68 heads out of 100\n",
      "The expected distribution for a fair coin is mu=50.0, sd=5.0\n",
      "binomial test p-value: 0.000408777167427\n",
      "normal approximation p-value: - 0.000465258158071\n",
      "simulation p-value - 0.00036\n",
      "Maximum Likelihood Estimate: 0.68\n",
      "Bootstrap CI: (0.5900, 0.7700)\n"
     ]
    },
    {
     "data": {
      "image/png": "[encoded data removed]",
      "text/plain": [
       "<matplotlib.figure.Figure at 0x121b16940>"
      ]
     },
     "metadata": {},
     "output_type": "display_data"
    }
   ],
   "source": [
    "# statistical inference\n",
    "# simulating data\n",
    "\n",
    "import numpy as np\n",
    "import matplotlib.pyplot as plt\n",
    "import scipy.stats as st\n",
    "\n",
    "n = 100\n",
    "pcoin = 0.62 # actual value of p for coin\n",
    "results = st.bernoulli(pcoin).rvs(n)\n",
    "h = sum(results)\n",
    "print(\"We observed %s heads out of %s\"%(h,n))\n",
    "\n",
    "# null hypothesis\n",
    "\n",
    "p = 0.5\n",
    "rv = st.binom(n,p)\n",
    "mu = rv.mean()\n",
    "sd = rv.std()\n",
    "print(\"The expected distribution for a fair coin is mu=%s, sd=%s\"%(mu,sd))\n",
    "\n",
    "# binomial distribution\n",
    "\n",
    "print(\"binomial test p-value: %s\"%st.binom_test(h, n, p))\n",
    "\n",
    "# z test\n",
    "\n",
    "z = (h-0.5-mu)/sd\n",
    "print(\"normal approximation p-value: - %s\"%(2*(1 - st.norm.cdf(z))))\n",
    "\n",
    "# permutation test\n",
    "\n",
    "nsamples = 100000\n",
    "xs = np.random.binomial(n, p, nsamples)\n",
    "print(\"simulation p-value - %s\"%(2*np.sum(xs >= h)/(xs.size + 0.0)))\n",
    "\n",
    "# Maximum Likelihood Estimation (MLE)\n",
    "\n",
    "bs_samples = np.random.choice(results, (nsamples, len(results)), replace=True)\n",
    "bs_ps = np.mean(bs_samples, axis=1)\n",
    "bs_ps.sort()\n",
    "\n",
    "print(\"Maximum Likelihood Estimate: %s\"%(np.sum(results)/float(len(results))))\n",
    "print(\"Bootstrap CI: (%.4f, %.4f)\" % (bs_ps[int(0.025*nsamples)], bs_ps[int(0.975*nsamples)]))\n",
    "\n",
    "# bayesian estamition\n",
    "\n",
    "fig  = plt.figure()\n",
    "ax = fig.add_subplot(111)\n",
    "\n",
    "a, b = 10, 10\n",
    "prior = st.beta(a, b)\n",
    "post = st.beta(h+a, n-h+b)\n",
    "ci = post.interval(0.95)\n",
    "map_ =(h+a-1.0)/(n+a+b-2.0)\n",
    "\n",
    "xs = np.linspace(0, 1, 100)\n",
    "ax.plot(prior.pdf(xs), label='Prior')\n",
    "ax.plot(post.pdf(xs), label='Posterior')\n",
    "ax.axvline(mu, c='red', linestyle='dashed', alpha=0.4)\n",
    "ax.set_xlim([0, 100])\n",
    "ax.axhline(0.3, ci[0], ci[1], c='black', linewidth=2, label='95% CI');\n",
    "ax.axvline(n*map_, c='blue', linestyle='dashed', alpha=0.4)\n",
    "ax.legend()\n",
    "plt.savefig(\"coin-toss.png\")\n",
    "\n",
    "plt.show()\n"
   ]
  },
  {
   "cell_type": "code",
   "execution_count": 46,
   "metadata": {},
   "outputs": [
    {
     "ename": "TypeError",
     "evalue": "get_simple_regression_samples() got an unexpected keyword argument 'seed'",
     "output_type": "error",
     "traceback": [
      "\u001b[0;31m---------------------------------------------------------------------------\u001b[0m",
      "\u001b[0;31mTypeError\u001b[0m                                 Traceback (most recent call last)",
      "\u001b[0;32m<ipython-input-46-115d396e93f7>\u001b[0m in \u001b[0;36m<module>\u001b[0;34m()\u001b[0m\n\u001b[1;32m     13\u001b[0m \u001b[0mb0_true\u001b[0m \u001b[0;34m=\u001b[0m \u001b[0;34m-\u001b[0m\u001b[0;36m0.3\u001b[0m\u001b[0;34m\u001b[0m\u001b[0m\n\u001b[1;32m     14\u001b[0m \u001b[0mb1_true\u001b[0m \u001b[0;34m=\u001b[0m \u001b[0;36m0.5\u001b[0m\u001b[0;34m\u001b[0m\u001b[0m\n\u001b[0;32m---> 15\u001b[0;31m \u001b[0mx\u001b[0m\u001b[0;34m,\u001b[0m\u001b[0my\u001b[0m \u001b[0;34m=\u001b[0m \u001b[0mget_simple_regression_samples\u001b[0m\u001b[0;34m(\u001b[0m\u001b[0mn\u001b[0m\u001b[0;34m,\u001b[0m\u001b[0mb0\u001b[0m\u001b[0;34m=\u001b[0m\u001b[0mb0_true\u001b[0m\u001b[0;34m,\u001b[0m\u001b[0mb1\u001b[0m\u001b[0;34m=\u001b[0m\u001b[0mb1_true\u001b[0m\u001b[0;34m,\u001b[0m\u001b[0mseed\u001b[0m\u001b[0;34m=\u001b[0m\u001b[0mseed\u001b[0m\u001b[0;34m)\u001b[0m\u001b[0;34m\u001b[0m\u001b[0m\n\u001b[0m\u001b[1;32m     16\u001b[0m \u001b[0;34m\u001b[0m\u001b[0m\n\u001b[1;32m     17\u001b[0m \u001b[0mfig\u001b[0m \u001b[0;34m=\u001b[0m \u001b[0mplt\u001b[0m\u001b[0;34m.\u001b[0m\u001b[0mfigure\u001b[0m\u001b[0;34m(\u001b[0m\u001b[0mfigsize\u001b[0m\u001b[0;34m=\u001b[0m\u001b[0;34m(\u001b[0m\u001b[0;36m8\u001b[0m\u001b[0;34m,\u001b[0m\u001b[0;36m8\u001b[0m\u001b[0;34m)\u001b[0m\u001b[0;34m)\u001b[0m\u001b[0;34m\u001b[0m\u001b[0m\n",
      "\u001b[0;31mTypeError\u001b[0m: get_simple_regression_samples() got an unexpected keyword argument 'seed'"
     ]
    }
   ],
   "source": [
    "# linear regression\n",
    "\n",
    "import matplotlib.pyplot as plt\n",
    "import numpy as np\n",
    "\n",
    "def get_simple_regression_samples(n,b0=-0.3,b1=0.5,error=0.2):\n",
    "    trueX =  np.random.uniform(-1,1,n)\n",
    "    trueT = b0 + (b1*trueX)\n",
    "    return np.array([trueX]).T, trueT + np.random.normal(0,error,n)\n",
    "\n",
    "seed = 42\n",
    "n = 20\n",
    "b0_true = -0.3\n",
    "b1_true = 0.5\n",
    "x,y = get_simple_regression_samples(n,b0=b0_true,b1=b1_true,seed=seed)\n",
    "\n",
    "fig = plt.figure(figsize=(8,8))\n",
    "ax = fig.add_subplot(111)\n",
    "ax.plot(x[:,0],y,'ko')\n",
    "ax.plot(x[:,0], b0_true + x[:,0]*b1_true,color='black',label='model mean')\n",
    "ax.legend()\n",
    "plt.show()"
   ]
  },
  {
   "cell_type": "code",
   "execution_count": 47,
   "metadata": {},
   "outputs": [
    {
     "ename": "NameError",
     "evalue": "name 'x' is not defined",
     "output_type": "error",
     "traceback": [
      "\u001b[0;31m---------------------------------------------------------------------------\u001b[0m",
      "\u001b[0;31mNameError\u001b[0m                                 Traceback (most recent call last)",
      "\u001b[0;32m<ipython-input-47-a75a73d198dc>\u001b[0m in \u001b[0;36m<module>\u001b[0;34m()\u001b[0m\n\u001b[1;32m     12\u001b[0m     \u001b[0;32mreturn\u001b[0m \u001b[0mscipy\u001b[0m\u001b[0;34m.\u001b[0m\u001b[0mlinalg\u001b[0m\u001b[0;34m.\u001b[0m\u001b[0mbasic\u001b[0m\u001b[0;34m.\u001b[0m\u001b[0mlstsq\u001b[0m\u001b[0;34m(\u001b[0m\u001b[0mmatrix\u001b[0m\u001b[0;34m,\u001b[0m\u001b[0mydata\u001b[0m\u001b[0;34m)\u001b[0m\u001b[0;34m[\u001b[0m\u001b[0;36m0\u001b[0m\u001b[0;34m]\u001b[0m\u001b[0;34m\u001b[0m\u001b[0m\n\u001b[1;32m     13\u001b[0m \u001b[0;34m\u001b[0m\u001b[0m\n\u001b[0;32m---> 14\u001b[0;31m \u001b[0mcoefs_lstsq\u001b[0m \u001b[0;34m=\u001b[0m \u001b[0mfit_linear_lstsq\u001b[0m\u001b[0;34m(\u001b[0m\u001b[0mx\u001b[0m\u001b[0;34m,\u001b[0m\u001b[0my\u001b[0m\u001b[0;34m)\u001b[0m\u001b[0;34m\u001b[0m\u001b[0m\n\u001b[0m\u001b[1;32m     15\u001b[0m \u001b[0my_pred_lstsq\u001b[0m \u001b[0;34m=\u001b[0m \u001b[0mcoefs_lstsq\u001b[0m\u001b[0;34m[\u001b[0m\u001b[0;36m0\u001b[0m\u001b[0;34m]\u001b[0m \u001b[0;34m+\u001b[0m \u001b[0;34m(\u001b[0m\u001b[0mcoefs_lstsq\u001b[0m\u001b[0;34m[\u001b[0m\u001b[0;36m1\u001b[0m\u001b[0;34m]\u001b[0m\u001b[0;34m*\u001b[0m\u001b[0mx\u001b[0m\u001b[0;34m[\u001b[0m\u001b[0;34m:\u001b[0m\u001b[0;34m,\u001b[0m\u001b[0;36m0\u001b[0m\u001b[0;34m]\u001b[0m\u001b[0;34m)\u001b[0m\u001b[0;34m\u001b[0m\u001b[0m\n\u001b[1;32m     16\u001b[0m \u001b[0;34m\u001b[0m\u001b[0m\n",
      "\u001b[0;31mNameError\u001b[0m: name 'x' is not defined"
     ]
    }
   ],
   "source": [
    "import numpy as np\n",
    "import scipy\n",
    "\n",
    "def fit_linear_lstsq(xdata,ydata):\n",
    "    \"\"\"\n",
    "    y = b0 + b1*x\n",
    "    \"\"\"\n",
    "    matrix = []\n",
    "    n,d = xdata.shape\n",
    "    for i in range(n):\n",
    "        matrix.append([1.0, xdata[i,0]])\n",
    "    return scipy.linalg.basic.lstsq(matrix,ydata)[0]\n",
    "\n",
    "coefs_lstsq = fit_linear_lstsq(x,y)\n",
    "y_pred_lstsq = coefs_lstsq[0] + (coefs_lstsq[1]*x[:,0])\n",
    "\n",
    "print(\"truth: b0=%s,b1=%s\"%(b0_true,b1_true))\n",
    "print(\"lstsq fit: b0=%s,b1=%s\"%(round(coefs_lstsq[0],3),round(coefs_lstsq[1],3)))"
   ]
  },
  {
   "cell_type": "code",
   "execution_count": null,
   "metadata": {
    "collapsed": true
   },
   "outputs": [],
   "source": []
  }
 ],
 "metadata": {
  "kernelspec": {
   "display_name": "Python 3",
   "language": "python",
   "name": "python3"
  },
  "language_info": {
   "codemirror_mode": {
    "name": "ipython",
    "version": 3
   },
   "file_extension": ".py",
   "mimetype": "text/x-python",
   "name": "python",
   "nbconvert_exporter": "python",
   "pygments_lexer": "ipython3",
   "version": "3.6.1"
  }
 },
 "nbformat": 4,
 "nbformat_minor": 2
}
